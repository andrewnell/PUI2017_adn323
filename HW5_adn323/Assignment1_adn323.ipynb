{
 "cells": [
  {
   "cell_type": "code",
   "execution_count": 201,
   "metadata": {
    "collapsed": false
   },
   "outputs": [
    {
     "name": "stdout",
     "output_type": "stream",
     "text": [
      "Populating the interactive namespace from numpy and matplotlib\n"
     ]
    }
   ],
   "source": [
    "from __future__ import print_function, division\n",
    "import pylab as pl\n",
    "import pandas as pd\n",
    "import numpy as np\n",
    "%pylab inline\n",
    "\n",
    "\n",
    "#plus importing scipy.stats\n",
    "import scipy.stats as st\n",
    "\n",
    "np.random.seed(10)\n"
   ]
  },
  {
   "cell_type": "markdown",
   "metadata": {},
   "source": [
    "## Plot Original Distribution"
   ]
  },
  {
   "cell_type": "code",
   "execution_count": 202,
   "metadata": {
    "collapsed": false,
    "scrolled": true
   },
   "outputs": [
    {
     "data": {
      "text/plain": [
       "<matplotlib.text.Text at 0x7f3a6718e1d0>"
      ]
     },
     "execution_count": 202,
     "metadata": {},
     "output_type": "execute_result"
    },
    {
     "data": {
      "image/png": "[encoded data removed]",
      "text/plain": [
       "<matplotlib.figure.Figure at 0x7f3a675d0490>"
      ]
     },
     "metadata": {},
     "output_type": "display_data"
    }
   ],
   "source": [
    "# Define Variables\n",
    "N = 1000\n",
    "n = 100\n",
    "mu = 100\n",
    "\n",
    "###############################################################################\n",
    "#std = 10 - Not relevant with Poison distributions as lambda only function\n",
    "\n",
    "# create Poisson distributon and plot\n",
    "Poisson = st.poisson.rvs(mu, size=n)\n",
    "pl.hist(Poisson)\n",
    "\n",
    "# Format table\n",
    "pl.title(\"Random Poisson Distribution with lamba 100\")\n",
    "pl.xlabel(\"Value\")\n",
    "pl.ylabel(\"Frequency\")"
   ]
  },
  {
   "cell_type": "markdown",
   "metadata": {},
   "source": [
    "### Figure 1: Random Poisson Distribution with mean 100 \n",
    "#### Sample randomly distributed around set mean of 100 with standard distribution 10"
   ]
  },
  {
   "cell_type": "markdown",
   "metadata": {},
   "source": [
    "## Create random Poisson distribution data sets"
   ]
  },
  {
   "cell_type": "code",
   "execution_count": 203,
   "metadata": {
    "collapsed": true
   },
   "outputs": [],
   "source": [
    "def calculate_z(sample,mu=100):\n",
    "    \"\"\"Function to calculate the z value of a distribution\"\"\"\n",
    "    \n",
    "    mean = sample.mean()\n",
    "    \n",
    "    z = (mu - mean) / (sample.std()/np.sqrt(len(sample))) \n",
    "    \n",
    "    return z"
   ]
  },
  {
   "cell_type": "code",
   "execution_count": 269,
   "metadata": {
    "collapsed": false
   },
   "outputs": [],
   "source": [
    "# Create empty arrays\n",
    "PoissonZ = np.empty(N)\n",
    "PoissonMean = np.empty(N)\n",
    "Uniform = np.empty(N)\n",
    "\n",
    "# Create Poison distributions in each array slot\n",
    "for i in range(0,N):\n",
    "    \n",
    "    Poisson = st.poisson.rvs(mu, size=n) # Create Poisson sample\n",
    "    PoissonZ[i] = calculate_z(Poisson,100) # Calculate Z statistic for each\n",
    "    PoissonMean[i] = Poisson.mean() #Calculate means for each array\n",
    "    Uniform[i] = calculate_z(st.uniform.rvs(size=n))\n",
    "    "
   ]
  },
  {
   "cell_type": "markdown",
   "metadata": {},
   "source": [
    "## Plot at least one of the samples"
   ]
  },
  {
   "cell_type": "code",
   "execution_count": 270,
   "metadata": {
    "collapsed": false
   },
   "outputs": [
    {
     "data": {
      "text/plain": [
       "<matplotlib.text.Text at 0x7f3a6550af90>"
      ]
     },
     "execution_count": 270,
     "metadata": {},
     "output_type": "execute_result"
    },
    {
     "data": {
      "image/png": "[encoded data removed]",
      "text/plain": [
       "<matplotlib.figure.Figure at 0x7f3a6574a950>"
      ]
     },
     "metadata": {},
     "output_type": "display_data"
    }
   ],
   "source": [
    "# Plot one of Poisson distribution samples in array\n",
    "pl.hist(Poisson)\n",
    "\n",
    "# Format table\n",
    "pl.title(\"Random Poisson Distribution with lamba 100 from array\")\n",
    "pl.xlabel(\"Value\")\n",
    "pl.ylabel(\"Frequency\")"
   ]
  },
  {
   "cell_type": "markdown",
   "metadata": {},
   "source": [
    "### Figure 2: Random Poisson Distribution with mean 100 from array of random samples\n",
    "#### Sample randomly distributed around set mean of 100 with standard distribution 10"
   ]
  },
  {
   "cell_type": "markdown",
   "metadata": {},
   "source": [
    "## Plot the distribution of Z statistics"
   ]
  },
  {
   "cell_type": "code",
   "execution_count": 271,
   "metadata": {
    "collapsed": false
   },
   "outputs": [
    {
     "data": {
      "text/plain": [
       "<matplotlib.text.Text at 0x7f3a654a4210>"
      ]
     },
     "execution_count": 271,
     "metadata": {},
     "output_type": "execute_result"
    },
    {
     "data": {
      "image/png": "[encoded data removed]",
      "text/plain": [
       "<matplotlib.figure.Figure at 0x7f3a6543fb50>"
      ]
     },
     "metadata": {},
     "output_type": "display_data"
    }
   ],
   "source": [
    "# Plot histogram of Z statistic values\n",
    "pl.hist(PoissonZ,normed=True)\n",
    "\n",
    "# Format table\n",
    "pl.title(\"Distribution of Z statistics of random Poisson samples\")\n",
    "pl.xlabel(\"Z Statistic\")\n",
    "pl.ylabel(\"Frequency\")"
   ]
  },
  {
   "cell_type": "markdown",
   "metadata": {},
   "source": [
    "### Figure 3: Distribution of Z statistics of random Poisson samples\n",
    "#### Note of the Z statistic distribution of the random poisson samples resembles a gaussian distribution with mean 0 and standard deviation 1"
   ]
  },
  {
   "cell_type": "markdown",
   "metadata": {},
   "source": [
    "## Fit the z-statistics with a gaussian model and assess the goodness of fit with a simple test (AD or KS)\n",
    "###  α = 0.05"
   ]
  },
  {
   "cell_type": "code",
   "execution_count": 272,
   "metadata": {
    "collapsed": false
   },
   "outputs": [
    {
     "data": {
      "text/plain": [
       "<matplotlib.legend.Legend at 0x7f3a652f19d0>"
      ]
     },
     "execution_count": 272,
     "metadata": {},
     "output_type": "execute_result"
    },
    {
     "data": {
      "image/png": "[encoded data removed]",
      "text/plain": [
       "<matplotlib.figure.Figure at 0x7f3a653b8690>"
      ]
     },
     "metadata": {},
     "output_type": "display_data"
    }
   ],
   "source": [
    "# Plot histogram of Z statistic values\n",
    "y = pl.hist(PoissonZ,normed=True, label=\"Z Statistics\")\n",
    "\n",
    "# Format table\n",
    "pl.title(\"Distribution of Z statistics of random Poisson samples\")\n",
    "pl.xlabel(\"Z Statistic\")\n",
    "pl.ylabel(\"Frequency\")\n",
    "\n",
    "# Fit Gaussian Plot\n",
    "# Define x range \n",
    "xmin, xmax = plt.xlim()\n",
    "xlim = np.linspace(xmin, xmax, 100)\n",
    "\n",
    "# Create actual gaussian and normal of actual distribution\n",
    "fit = st.norm.pdf(xlim,PoissonZ.mean(),PoissonZ.std())\n",
    "Gaussian = st.norm.pdf(xlim,0,1)\n",
    "\n",
    "# Plot both fits\n",
    "pl.plot(xlim, fit,'-r',alpha=0.5, label=\"Fitted Gaussian Distribution\")\n",
    "pl.plot(xlim, Gaussian,'--k',alpha=0.5, label=\"Gaussian Distribution\")\n",
    "pl.legend()"
   ]
  },
  {
   "cell_type": "markdown",
   "metadata": {},
   "source": [
    "### Figure 4: Distribution of Z statistics of random Poisson samples with fitted gaussian distribution and actual gaussian distribution\n",
    "#### Note of the Z statistic distribution of the random poisson samples resembles a gaussian distribution with mean 0 and standard deviation 1. There is almost no difference between the Fitted Gaussian Distribution and the Gaussian Distribution"
   ]
  },
  {
   "cell_type": "code",
   "execution_count": 273,
   "metadata": {
    "collapsed": false
   },
   "outputs": [
    {
     "name": "stdout",
     "output_type": "stream",
     "text": [
      "KstestResult(statistic=0.016910684938710618, pvalue=0.93728792233244607)\n"
     ]
    }
   ],
   "source": [
    "ks = st.kstest(PoissonZ,'norm')\n",
    "print (ks)"
   ]
  },
  {
   "cell_type": "markdown",
   "metadata": {},
   "source": [
    "#### The KS test shows a p-value of nearly 1, indicating that we cannot reject the null hypothesis it is far greater than the 0.05 significance level. The Statistic is also very low (+-1%), indicating only small differences"
   ]
  },
  {
   "cell_type": "code",
   "execution_count": 283,
   "metadata": {
    "collapsed": false
   },
   "outputs": [
    {
     "name": "stdout",
     "output_type": "stream",
     "text": [
      "AndersonResult(statistic=0.21060437298547185, critical_values=array([ 0.574,  0.653,  0.784,  0.914,  1.088]), significance_level=array([ 15. ,  10. ,   5. ,   2.5,   1. ]))\n"
     ]
    }
   ],
   "source": [
    "ad = st.anderson(PoissonZ, dist='norm')\n",
    "print (ad)"
   ]
  },
  {
   "cell_type": "markdown",
   "metadata": {},
   "source": [
    "#### The statistic in the Anderson-Darling results is very low (0.21), indicating that we cannot reject the null hypothesis that the data sets are from the same normal distribution"
   ]
  },
  {
   "cell_type": "code",
   "execution_count": 284,
   "metadata": {
    "collapsed": false,
    "scrolled": true
   },
   "outputs": [
    {
     "name": "stdout",
     "output_type": "stream",
     "text": [
      "AndersonResult(statistic=11.08500391222708, critical_values=array([ 0.574,  0.653,  0.784,  0.914,  1.088]), significance_level=array([ 15. ,  10. ,   5. ,   2.5,   1. ]))\n"
     ]
    }
   ],
   "source": [
    "ad = st.anderson(np.arange(0,1000,1), dist='norm')\n",
    "print (ad)"
   ]
  },
  {
   "cell_type": "code",
   "execution_count": 289,
   "metadata": {
    "collapsed": false
   },
   "outputs": [
    {
     "name": "stdout",
     "output_type": "stream",
     "text": [
      "AndersonResult(statistic=0.26806884081781845, critical_values=array([ 0.574,  0.653,  0.784,  0.914,  1.088]), significance_level=array([ 15. ,  10. ,   5. ,   2.5,   1. ]))\n"
     ]
    }
   ],
   "source": [
    "normaltest = st.norm.rvs(loc=0,scale=1,size=1000)\n",
    "ad = st.anderson(normaltest, dist='norm')\n",
    "print (ad)"
   ]
  },
  {
   "cell_type": "code",
   "execution_count": null,
   "metadata": {
    "collapsed": true
   },
   "outputs": [],
   "source": []
  }
 ],
 "metadata": {
  "kernelspec": {
   "display_name": "PUI2016_Python2",
   "language": "python",
   "name": "pui2016_python2"
  },
  "language_info": {
   "codemirror_mode": {
    "name": "ipython",
    "version": 2
   },
   "file_extension": ".py",
   "mimetype": "text/x-python",
   "name": "python",
   "nbconvert_exporter": "python",
   "pygments_lexer": "ipython2",
   "version": "2.7.12"
  }
 },
 "nbformat": 4,
 "nbformat_minor": 0
}
