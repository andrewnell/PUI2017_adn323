{
 "cells": [
  {
   "cell_type": "code",
   "execution_count": 44,
   "metadata": {
    "collapsed": false
   },
   "outputs": [
    {
     "name": "stdout",
     "output_type": "stream",
     "text": [
      "Populating the interactive namespace from numpy and matplotlib\n"
     ]
    }
   ],
   "source": [
    "from __future__ import print_function\n",
    "import pandas as pd\n",
    "import numpy as np\n",
    "import json\n",
    "import urllib2 \n",
    "import sys\n",
    "import os\n",
    "import pylab as pl\n",
    "%pylab inline"
   ]
  },
  {
   "cell_type": "code",
   "execution_count": 45,
   "metadata": {
    "collapsed": false,
    "scrolled": true
   },
   "outputs": [
    {
     "name": "stdout",
     "output_type": "stream",
     "text": [
      "/gws/open/NYCOpenData/nycopendata/data/42et-jh9v/doe hsdirectory performance column description.csv\r\n",
      "/gws/open/NYCOpenData/nycopendata/data/5uac-w243/NYPD_Incident_Level_Data_Column_Descriptions.csv\r\n",
      "/gws/open/NYCOpenData/nycopendata/data/c3uy-2p5r/OutdoorAirandHealthInfoSource.csv\r\n",
      "/gws/open/NYCOpenData/nycopendata/data/eccv-9dzr/ARCHIVED_FHV_Bases_20170310.csv\r\n",
      "/gws/open/NYCOpenData/nycopendata/data/fdkv-4t4z/ARCHIVED_NYC_Zoning_Tax_Lot_Database_03092017.csv\r\n",
      "/gws/open/NYCOpenData/nycopendata/data/i9pf-sj7c/doe hsdirectory program column description.csv\r\n",
      "/gws/open/NYCOpenData/nycopendata/data/nzjr-3966/Field_Descriptions.csv\r\n",
      "/gws/open/NYCOpenData/nycopendata/data/qgea-i56i/NYPD_Incident_Level_Data_Column_Descriptions.csv\r\n",
      "/gws/open/NYCOpenData/nycopendata/data/u553-m549/doe hsdirectory school column description.csv\r\n"
     ]
    }
   ],
   "source": [
    "!ls $DFDATA/*/*csv # Find file directories to use as CUSP data facility is down"
   ]
  },
  {
   "cell_type": "markdown",
   "metadata": {},
   "source": [
    "#### 2."
   ]
  },
  {
   "cell_type": "code",
   "execution_count": 48,
   "metadata": {
    "collapsed": false
   },
   "outputs": [
    {
     "data": {
      "text/plain": [
       "'/gws/open/NYCOpenData/nycopendata/data'"
      ]
     },
     "execution_count": 48,
     "metadata": {},
     "output_type": "execute_result"
    }
   ],
   "source": [
    "os.getenv(\"DFDATA\") # Check Directory is linked to correct place"
   ]
  },
  {
   "cell_type": "markdown",
   "metadata": {},
   "source": [
    "#### 3."
   ]
  },
  {
   "cell_type": "code",
   "execution_count": 95,
   "metadata": {
    "collapsed": false
   },
   "outputs": [],
   "source": [
    "# read data in Pandas\n",
    "dataFHV = pd.read_csv(os.getenv('DFDATA')+'/eccv-9dzr/ARCHIVED_FHV_Bases_20170310.csv') "
   ]
  },
  {
   "cell_type": "markdown",
   "metadata": {},
   "source": [
    "#### 4."
   ]
  },
  {
   "cell_type": "code",
   "execution_count": 96,
   "metadata": {
    "collapsed": false
   },
   "outputs": [
    {
     "data": {
      "text/html": [
       "<div>\n",
       "<table border=\"1\" class=\"dataframe\">\n",
       "  <thead>\n",
       "    <tr style=\"text-align: right;\">\n",
       "      <th></th>\n",
       "      <th>Base License</th>\n",
       "      <th>Base Name</th>\n",
       "      <th>Base Phone</th>\n",
       "      <th>Street Hail Livery Endorsement</th>\n",
       "      <th>Wheelchair Accessible Vehicles</th>\n",
       "      <th>Base Type</th>\n",
       "      <th>Street Number</th>\n",
       "      <th>Street</th>\n",
       "      <th>City</th>\n",
       "      <th>State</th>\n",
       "      <th>Zip</th>\n",
       "      <th>Location</th>\n",
       "      <th>Longitude</th>\n",
       "      <th>Latitude</th>\n",
       "    </tr>\n",
       "  </thead>\n",
       "  <tbody>\n",
       "    <tr>\n",
       "      <th>0</th>\n",
       "      <td>B01452</td>\n",
       "      <td>AREAS TRANSP INC</td>\n",
       "      <td>(718)967-3232</td>\n",
       "      <td>NO</td>\n",
       "      <td>0</td>\n",
       "      <td>LIVERY BASE</td>\n",
       "      <td>5230</td>\n",
       "      <td>ARTHUR KILL ROAD</td>\n",
       "      <td>STATEN ISLAND</td>\n",
       "      <td>NY</td>\n",
       "      <td>10307</td>\n",
       "      <td>(40.515693, -74.24379)</td>\n",
       "      <td>-74.243790</td>\n",
       "      <td>40.515693</td>\n",
       "    </tr>\n",
       "    <tr>\n",
       "      <th>1</th>\n",
       "      <td>B00972</td>\n",
       "      <td>N.J.M.INC.</td>\n",
       "      <td>(718)967-2500</td>\n",
       "      <td>YES</td>\n",
       "      <td>0</td>\n",
       "      <td>LIVERY BASE</td>\n",
       "      <td>566</td>\n",
       "      <td>INDUSTRIAL LOOP</td>\n",
       "      <td>STATEN ISLAND</td>\n",
       "      <td>NY</td>\n",
       "      <td>10309</td>\n",
       "      <td>(40.547111, -74.230602)</td>\n",
       "      <td>-74.230602</td>\n",
       "      <td>40.547111</td>\n",
       "    </tr>\n",
       "    <tr>\n",
       "      <th>2</th>\n",
       "      <td>B00023</td>\n",
       "      <td>F.J.A. LIVERY CORP</td>\n",
       "      <td>(718)698-4493</td>\n",
       "      <td>NO</td>\n",
       "      <td>0</td>\n",
       "      <td>LIVERY BASE</td>\n",
       "      <td>3747A</td>\n",
       "      <td>VICTORY BOULEVARD</td>\n",
       "      <td>STATEN ISLAND</td>\n",
       "      <td>NY</td>\n",
       "      <td>10314</td>\n",
       "      <td>(40.597937, -74.180879)</td>\n",
       "      <td>-74.180879</td>\n",
       "      <td>40.597937</td>\n",
       "    </tr>\n",
       "    <tr>\n",
       "      <th>3</th>\n",
       "      <td>B01537</td>\n",
       "      <td>S.I. SPEED INC.</td>\n",
       "      <td>(718)227-6666</td>\n",
       "      <td>YES</td>\n",
       "      <td>0</td>\n",
       "      <td>LIVERY BASE</td>\n",
       "      <td>16</td>\n",
       "      <td>GIFFORDS LANE</td>\n",
       "      <td>STATEN ISLAND</td>\n",
       "      <td>NY</td>\n",
       "      <td>10308</td>\n",
       "      <td>(40.551166, -74.150331)</td>\n",
       "      <td>-74.150331</td>\n",
       "      <td>40.551166</td>\n",
       "    </tr>\n",
       "    <tr>\n",
       "      <th>4</th>\n",
       "      <td>B02028</td>\n",
       "      <td>FOREST AVENUE CAR SERVICE INC</td>\n",
       "      <td>(718)981-4400</td>\n",
       "      <td>NO</td>\n",
       "      <td>0</td>\n",
       "      <td>LIVERY BASE</td>\n",
       "      <td>1841</td>\n",
       "      <td>FOREST AVENUE</td>\n",
       "      <td>STATEN ISLAND</td>\n",
       "      <td>NY</td>\n",
       "      <td>10303</td>\n",
       "      <td>(40.625268, -74.150026)</td>\n",
       "      <td>-74.150026</td>\n",
       "      <td>40.625268</td>\n",
       "    </tr>\n",
       "  </tbody>\n",
       "</table>\n",
       "</div>"
      ],
      "text/plain": [
       "  Base License                      Base Name     Base Phone  \\\n",
       "0       B01452               AREAS TRANSP INC  (718)967-3232   \n",
       "1       B00972                     N.J.M.INC.  (718)967-2500   \n",
       "2       B00023             F.J.A. LIVERY CORP  (718)698-4493   \n",
       "3       B01537                S.I. SPEED INC.  (718)227-6666   \n",
       "4       B02028  FOREST AVENUE CAR SERVICE INC  (718)981-4400   \n",
       "\n",
       "  Street Hail Livery Endorsement  Wheelchair Accessible Vehicles    Base Type  \\\n",
       "0                             NO                               0  LIVERY BASE   \n",
       "1                            YES                               0  LIVERY BASE   \n",
       "2                             NO                               0  LIVERY BASE   \n",
       "3                            YES                               0  LIVERY BASE   \n",
       "4                             NO                               0  LIVERY BASE   \n",
       "\n",
       "  Street Number             Street           City State    Zip  \\\n",
       "0          5230   ARTHUR KILL ROAD  STATEN ISLAND    NY  10307   \n",
       "1           566    INDUSTRIAL LOOP  STATEN ISLAND    NY  10309   \n",
       "2         3747A  VICTORY BOULEVARD  STATEN ISLAND    NY  10314   \n",
       "3            16      GIFFORDS LANE  STATEN ISLAND    NY  10308   \n",
       "4          1841      FOREST AVENUE  STATEN ISLAND    NY  10303   \n",
       "\n",
       "                  Location  Longitude   Latitude  \n",
       "0   (40.515693, -74.24379) -74.243790  40.515693  \n",
       "1  (40.547111, -74.230602) -74.230602  40.547111  \n",
       "2  (40.597937, -74.180879) -74.180879  40.597937  \n",
       "3  (40.551166, -74.150331) -74.150331  40.551166  \n",
       "4  (40.625268, -74.150026) -74.150026  40.625268  "
      ]
     },
     "execution_count": 96,
     "metadata": {},
     "output_type": "execute_result"
    }
   ],
   "source": [
    "dataFHV.head() #Render data"
   ]
  },
  {
   "cell_type": "markdown",
   "metadata": {},
   "source": [
    "#### 5."
   ]
  },
  {
   "cell_type": "code",
   "execution_count": 97,
   "metadata": {
    "collapsed": false
   },
   "outputs": [],
   "source": [
    "# Drop all irrelevant columns\n",
    "dataFHV.drop(['Base License', 'Base Name', 'Base Phone', 'Street Hail Livery Endorsement', 'Wheelchair Accessible Vehicles',\n",
    "              'Base Type', 'Street Number', 'Street', 'City', 'State', 'Zip', 'Location'], \n",
    "                axis=1, inplace=True)"
   ]
  },
  {
   "cell_type": "markdown",
   "metadata": {},
   "source": [
    "#### 6."
   ]
  },
  {
   "cell_type": "code",
   "execution_count": 98,
   "metadata": {
    "collapsed": false
   },
   "outputs": [
    {
     "data": {
      "text/html": [
       "<div>\n",
       "<table border=\"1\" class=\"dataframe\">\n",
       "  <thead>\n",
       "    <tr style=\"text-align: right;\">\n",
       "      <th></th>\n",
       "      <th>Longitude</th>\n",
       "      <th>Latitude</th>\n",
       "    </tr>\n",
       "  </thead>\n",
       "  <tbody>\n",
       "    <tr>\n",
       "      <th>0</th>\n",
       "      <td>-74.243790</td>\n",
       "      <td>40.515693</td>\n",
       "    </tr>\n",
       "    <tr>\n",
       "      <th>1</th>\n",
       "      <td>-74.230602</td>\n",
       "      <td>40.547111</td>\n",
       "    </tr>\n",
       "    <tr>\n",
       "      <th>2</th>\n",
       "      <td>-74.180879</td>\n",
       "      <td>40.597937</td>\n",
       "    </tr>\n",
       "    <tr>\n",
       "      <th>3</th>\n",
       "      <td>-74.150331</td>\n",
       "      <td>40.551166</td>\n",
       "    </tr>\n",
       "    <tr>\n",
       "      <th>4</th>\n",
       "      <td>-74.150026</td>\n",
       "      <td>40.625268</td>\n",
       "    </tr>\n",
       "  </tbody>\n",
       "</table>\n",
       "</div>"
      ],
      "text/plain": [
       "   Longitude   Latitude\n",
       "0 -74.243790  40.515693\n",
       "1 -74.230602  40.547111\n",
       "2 -74.180879  40.597937\n",
       "3 -74.150331  40.551166\n",
       "4 -74.150026  40.625268"
      ]
     },
     "execution_count": 98,
     "metadata": {},
     "output_type": "execute_result"
    }
   ],
   "source": [
    "dataFHV.head() # Rerender data"
   ]
  },
  {
   "cell_type": "code",
   "execution_count": 103,
   "metadata": {
    "collapsed": false
   },
   "outputs": [
    {
     "data": {
      "text/plain": [
       "(40.4, 41)"
      ]
     },
     "execution_count": 103,
     "metadata": {},
     "output_type": "execute_result"
    },
    {
     "data": {
      "image/png": "[encoded data removed]",
      "text/plain": [
       "<matplotlib.figure.Figure at 0x7f9d1276a310>"
      ]
     },
     "metadata": {},
     "output_type": "display_data"
    }
   ],
   "source": [
    "# Plot latitude and longitude to see where FHVs are\n",
    "figure = dataFHV.plot.scatter(x='Latitude', y='Longitude', color='r',rot=90)\n",
    "\n",
    "# Format the figure\n",
    "figure.set_title(\"For-Hire Vehicle Coordinates plotted\")\n",
    "figure.set_ylim(-74.2, -73.5)\n",
    "figure.set_xlim(40.4, 41)"
   ]
  },
  {
   "cell_type": "markdown",
   "metadata": {},
   "source": [
    "##### Figure 1: For-Hire Vehicle (FHV) Coordinates plotted"
   ]
  },
  {
   "cell_type": "markdown",
   "metadata": {},
   "source": [
    "### Cannot do extra credit because none of the available files while CDF is down have any date variables"
   ]
  }
 ],
 "metadata": {
  "kernelspec": {
   "display_name": "PUI2016_Python2",
   "language": "python",
   "name": "pui2016_python2"
  },
  "language_info": {
   "codemirror_mode": {
    "name": "ipython",
    "version": 2
   },
   "file_extension": ".py",
   "mimetype": "text/x-python",
   "name": "python",
   "nbconvert_exporter": "python",
   "pygments_lexer": "ipython2",
   "version": "2.7.12"
  }
 },
 "nbformat": 4,
 "nbformat_minor": 0
}
