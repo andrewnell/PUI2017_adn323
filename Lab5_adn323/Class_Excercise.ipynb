{
 "cells": [
  {
   "cell_type": "code",
   "execution_count": 43,
   "metadata": {
    "collapsed": false
   },
   "outputs": [
    {
     "name": "stdout",
     "output_type": "stream",
     "text": [
      "Populating the interactive namespace from numpy and matplotlib\n"
     ]
    },
    {
     "name": "stderr",
     "output_type": "stream",
     "text": [
      "/opt/rh/anaconda/root/envs/PUI2016_Python2/lib/python2.7/site-packages/IPython/core/magics/pylab.py:161: UserWarning: pylab import has clobbered these variables: ['normal']\n",
      "`%matplotlib` prevents importing * from pylab and numpy\n",
      "  \"\\n`%matplotlib` prevents importing * from pylab and numpy\"\n"
     ]
    }
   ],
   "source": [
    "import numpy as np\n",
    "import pandas as pd\n",
    "import pylab as pl\n",
    "import scipy.stats as st\n",
    "%pylab inline\n",
    "\n",
    "np.random.seed(0)"
   ]
  },
  {
   "cell_type": "code",
   "execution_count": 44,
   "metadata": {
    "collapsed": false
   },
   "outputs": [
    {
     "data": {
      "text/plain": [
       "array([ 117.64052346,  104.00157208,  109.78737984,  122.40893199,\n",
       "        118.6755799 ,   90.2272212 ,  109.50088418,   98.48642792,\n",
       "         98.96781148,  104.10598502,  101.44043571,  114.54273507,\n",
       "        107.61037725,  101.21675016,  104.43863233,  103.33674327,\n",
       "        114.94079073,   97.94841736,  103.13067702,   91.45904261,\n",
       "         74.47010184,  106.53618595,  108.64436199,   92.5783498 ,\n",
       "        122.69754624,   85.45634325,  100.45758517,   98.1281615 ,\n",
       "        115.32779214,  114.6935877 ,  101.54947426,  103.7816252 ,\n",
       "         91.12214252,   80.19203532,   96.52087851,  101.56348969,\n",
       "        112.30290681,  112.02379849,   96.12673183,   96.97697249,\n",
       "         89.51447035,   85.79982063,   82.93729809,  119.50775395,\n",
       "         94.90347818,   95.61925698,   87.4720464 ,  107.77490356,\n",
       "         83.86102152,   97.8725972 ,   91.04533439,  103.86902498,\n",
       "         94.89194862,   88.19367816,   99.71817772,  104.28331871,\n",
       "        100.66517222,  103.02471898,   93.65677906,   96.37258834,\n",
       "         93.27539552,   96.40446838,   91.86853718,   82.73717398,\n",
       "        101.77426142,   95.98219064,   83.69801653,  104.62782256,\n",
       "         90.92701636,  100.51945396,  107.29090562,  101.28982911,\n",
       "        111.39400685,   87.6517418 ,  104.02341641,   93.15189909,\n",
       "         91.29202851,   94.21150335,   96.88447468,  100.56165342,\n",
       "         88.34850159,  109.00826487,  104.6566244 ,   84.63756314,\n",
       "        114.88252194,  118.95889176,  111.78779571,   98.20075164,\n",
       "         89.29247378,  110.54451727,   95.96823053,  112.2244507 ,\n",
       "        102.08274978,  109.76639036,  103.56366397,  107.06573168,\n",
       "        100.10500021,  117.85870494,  101.26912093,  104.01989363,\n",
       "        118.83150697,   86.52240939,   87.29515002,  109.69396708,\n",
       "         88.26876595,  119.43621186,   95.86381019,   92.52545189,\n",
       "        119.22942026,  114.80514791,  118.6755896 ,  109.06044658,\n",
       "         91.38774315,  119.10064953,   97.31996629,  108.02456396,\n",
       "        109.47251968,   98.44989907,  106.1407937 ,  109.22206672,\n",
       "        103.76425531,   89.00599209,  102.98238174,  113.26385897,\n",
       "         93.0543214 ,   98.5036546 ,   95.64846448,  118.49263728,\n",
       "        106.72294757,  104.07461836,   92.30083926,  105.39249191,\n",
       "         93.25667339,  100.31830558,   93.64153922,  106.76433295,\n",
       "        105.76590817,   97.91701244,  103.96006713,   89.06938491,\n",
       "         85.08742407,  104.39391701,  101.66673495,  106.35031437,\n",
       "        123.83144775,  109.44479487,   90.87177775,  111.17016288,\n",
       "         86.84092589,   95.38415395,   99.31758395,  117.13342722,\n",
       "         92.55245178,   91.73561461,   99.01547476,   93.36521714,\n",
       "        111.26635922,   89.20068492,   88.52531348,   95.62179955,\n",
       "         95.01967549,  119.29532054,  109.49420807,  100.87551241,\n",
       "         87.74564481,  108.44362976,   89.99784653,   84.55228903,\n",
       "        111.88029792,  103.16942612,  109.20858824,  103.18727653,\n",
       "        108.56830612,   93.48974407,   89.65757158,  106.81594518,\n",
       "         91.96590336,   93.10450222,   95.44467496,  100.17479159,\n",
       "         96.46006089,   86.25048707,   93.56381597,   77.76596848,\n",
       "        106.25231451,   83.97942344,   88.95616661,  100.52165079,\n",
       "         92.60437004,  115.43014595,   87.0714309 ,  102.67050869,\n",
       "         99.60717182,   88.31906502,  105.23276661,   98.28453669,\n",
       "        107.71790551,  108.23504154,  121.63235949,  113.36527949,\n",
       "         96.30818162,   97.60620822,  110.99659596,  106.55263731,\n",
       "        106.40131526,   83.83043956,   99.75673876,   92.61969091,\n",
       "        102.79924599,   99.0184961 ,  109.10178908,  103.17218215,\n",
       "        107.86327962,   95.33580903,   90.55553744,   95.89950307,\n",
       "         99.82979586,  103.79151736,  122.59308951,   99.57742848,\n",
       "         90.44055   ,   96.54018224,   95.36404025,  104.81481474,\n",
       "         84.59202986,  100.63261994,  101.56506538,  102.32181036,\n",
       "         94.02683931,   97.6207827 ,   85.75939091,   95.06680117,\n",
       "         94.57138524,  104.16050046,   88.43817568,  107.81198102,\n",
       "        114.94484544,   79.30014975,  104.26258731,  106.76908035,\n",
       "         93.62562974,   96.02728186,   98.67119422,   97.02209121,\n",
       "         96.90987031,   83.23996194,  111.52331565,  110.79618592,\n",
       "         91.86635741,   85.33575672,  105.21064876,   94.2421203 ,\n",
       "        101.41953163,   96.80671583,  106.91538751,  106.94749144,\n",
       "         92.74402622,   86.16636045,   84.17061603,  106.10379379,\n",
       "         88.11140742,   94.93183646,   94.03685962,   99.47432704,\n",
       "         80.63720194,  101.88778597,  105.23891024,  100.88422087,\n",
       "         96.89113828,  100.97400166,  103.99046346,   72.27407244,\n",
       "        119.55912308,  103.90093323,   93.47591418,   96.09046625,\n",
       "        104.93741777,   98.83896061,   79.69315532,  120.64492861,\n",
       "         98.89459343,  110.20172712,   93.07950152,  115.36377054,\n",
       "        102.86343689,  106.08843834,   89.54746634,  112.1114529 ,\n",
       "        106.89818165,  113.0184623 ,   93.7191244 ,   95.18972882,\n",
       "        123.03916698,   89.39984177,   98.64050299,  111.36891363,\n",
       "        100.97724968,  105.8295368 ,   96.00550971,  103.70055888,\n",
       "         86.93473148,  116.5813068 ,   98.81835955,   93.19821796,\n",
       "        106.66383082,   95.39280213,   86.65741529,   86.53282494,\n",
       "        106.93773153,   98.40426562,   98.6629844 ,  110.77743806,\n",
       "         88.73174191,   92.69322247,   96.15120191,  100.94351589,\n",
       "         99.57828549,   97.13112808,   99.38373598,   98.92694724,\n",
       "         92.80395611,   91.87007011,  102.74516358,   91.09084917,\n",
       "         88.42644741,   96.87707749,   98.42332984,  122.56723497,\n",
       "         92.95299724,  109.43260725,  107.47188334,   88.11055045,\n",
       "        107.73252977,   88.1611936 ,   73.40827762,  106.06319524,\n",
       "         82.44109417,  104.50934462,   93.15989102,  116.59550796,\n",
       "        110.68509399,   95.46614196,   93.12162389,   87.85922597,\n",
       "         95.59077368,   97.19644505,   96.35306456,  101.56703855,\n",
       "        105.78521498,  103.49654457,   92.35856076,   85.62208526,\n",
       "        113.64531848,   93.10550815,   93.477064  ,   94.78810688,\n",
       "         81.5693045 ,   95.22025996,   95.20344186,  106.20358298,\n",
       "        106.98457149,  100.03770889,  109.31848374,  103.39964984,\n",
       "         99.84317888,  101.60928168,   98.09346506,   96.05150486,\n",
       "         97.32266463,   88.71988669,  102.80441705,   90.06876389,\n",
       "        108.41631264,   97.5054142 ,  100.49494982,  104.93836776,\n",
       "        106.43314465,   84.29376591,   97.93096324,  108.80178912,\n",
       "         83.01894181,  103.87280475,   77.44435771,   89.77493156,\n",
       "        100.38630552,   83.43284898,   90.14489262,   85.28164993,\n",
       "        116.48134932,  101.64227755,  105.67290278,   97.77324899,\n",
       "         96.46568251,   83.83525811,   97.08162637,   92.38507788,\n",
       "        108.57923924,  111.41101867,  114.66578716,  108.52551939,\n",
       "         94.01346063,   88.84103014,  107.66663182,  103.56292817,\n",
       "         82.31461549,  103.55481793,  108.14519822,  100.58925589,\n",
       "         98.14946329,   91.92351512,   85.534653  ,  108.00297949,\n",
       "         96.90885555,   97.66533338,  117.32721187,  106.84501107,\n",
       "        103.70825001,  101.42061805,  115.19994861,  117.19589307,\n",
       "        109.29505111,  105.82224591,   79.05396929,  101.23721914,\n",
       "         98.69893046,  100.93953229,  109.43046087,   72.60322833,\n",
       "         94.30687947,  102.69904355,   95.33154454,   85.83093887,\n",
       "        108.68963487,  102.76871906,   90.2889543 ,  103.14817205,\n",
       "        108.21585712,  100.05292646,  108.00564803,  100.78260175,\n",
       "         96.04771017,   88.40579484,   99.14069233,  101.94292938,\n",
       "        108.75832762,   98.84892532,  104.57415606,   90.35387986,\n",
       "         92.17370844,   98.89610701,   89.45371536,  108.20247837,\n",
       "        104.63130329,  102.79095764,  103.38904125,  120.21043561,\n",
       "         95.31135812,   77.98558714,  101.99300197,   99.49396459,\n",
       "         94.82480957,   90.21170141,   95.60810478,  101.81338429,\n",
       "         94.97183299,  124.1245368 ,   90.39495618,   92.06882637,\n",
       "         77.1137996 ,  102.51484415,   79.83593372,   94.60545367,\n",
       "         97.24329465,   92.90272034,  117.38872677,  109.94394391,\n",
       "        113.19136876,   91.17581181,  111.28594065,  104.96000946,\n",
       "        107.71405949,  110.29438829,   90.91236754,   95.75682379,\n",
       "        108.62596011,   73.44380907,  115.13328083,  105.53132064,\n",
       "         99.54296039,  102.20507656,   89.70064717,   96.50056635,\n",
       "        111.00284338,  112.98021972,  126.96224053,   99.26075334,\n",
       "         93.41447033,   94.85766034,   89.81958125,   99.22145244,\n",
       "        103.8273243 ,   99.65757719,  110.96346846,   97.65784199,\n",
       "         96.52549348,   94.18731523,   83.67365474,   84.32232276,\n",
       "         88.20842069,  113.01428072,  108.95260273,  113.74964066,\n",
       "         86.67788345,   80.3137531 ,   93.3994368 ,  101.75818953,\n",
       "        104.98690275,  110.47972156,  102.84279671,  117.42668781,\n",
       "         97.77394319,   90.86920782,   83.18781785,   91.11028642,\n",
       "        102.42117961,   91.11279743,  109.36742464,  114.12327706,\n",
       "         76.30413095,  108.640523  ,   77.60395941,  104.01499055,\n",
       "        112.24870564,  100.64856106,   87.20310827,   94.14568796,\n",
       "         97.38354554,   98.17755216,   97.97103159,   98.90117221,\n",
       "        102.13480049,   87.91426346,   97.5798017 ,  115.1826117 ,\n",
       "         96.15354577,   95.56163907,  110.78197304,   74.40815334,\n",
       "        111.81378601,   93.68096242,  101.63928572,  100.96321356,\n",
       "        109.42468119,   97.32405254,   93.21974218,  112.97845791,\n",
       "         76.35826183,  100.20334182,   86.52074577,   92.38426612,\n",
       "        120.11256681,   99.55404574,  101.95069697,   82.18437144,\n",
       "         92.70955341,  101.96557401,  103.54757693,  106.16886554,\n",
       "        100.08627899,  105.27004208,  104.53781913,   81.70259589,\n",
       "        100.37005722,  107.67902408,  105.89879821,   96.3614119 ,\n",
       "         91.94373492,   88.81688076,   98.68945988,  111.3307988 ,\n",
       "         80.48195899,   93.4010827 ,   88.60197545,  107.84957521,\n",
       "         94.45690373,   95.29362342,   97.8305043 ,  104.45393251,\n",
       "         96.07611002,   69.53856945,  105.43311891,  104.39042958,\n",
       "         97.80458972,   89.15963379,  103.51780111,  103.79235534,\n",
       "         95.29967117,   97.83268529,   90.69843497,   98.21410908,\n",
       "         84.49570655,  104.17318821,   90.55631509,  102.38103148,\n",
       "         85.94037084,   94.09942354,   98.89510595,   83.39300188,\n",
       "        101.15147873,   96.20852437,   82.57643802,   86.96757246,\n",
       "        106.05120084,  108.95555986,   98.6809136 ,  104.04761812,\n",
       "        102.23843563,  103.29622982,  112.85984007,   84.93001602,\n",
       "        106.76460732,   96.17991044,   97.75741066,   96.9775027 ,\n",
       "         96.24852883,   87.73803808,  101.83339199,  116.70943033,\n",
       "         99.4386698 ,   99.98614957,   93.12700963,   98.82525454,\n",
       "        104.66166426,   96.29757559,   95.46195959,  104.0326454 ,\n",
       "         90.8199523 ,  102.52496627,  108.20321797,  113.59948542,\n",
       "         99.09617993,  113.6759724 ,  110.34409886,   90.0378736 ,\n",
       "         87.82061488,   96.95036362,  110.28935493,   99.27712992,\n",
       "         93.99342442,  115.5224318 ,  102.86904488,   76.79405724,\n",
       "        103.17160626,  105.20040615,  102.25608654,  104.497121  ,\n",
       "         99.32724391,   86.8160413 ,   96.29295997,   90.54384204,\n",
       "         90.67259089,   87.36931651,  104.52489093,  100.97896145,\n",
       "         95.51834637,   93.50662072,   99.76576895,  110.79194728,\n",
       "         79.95784285,  103.76876521,   94.54288026,   81.15414155,\n",
       "         80.54296917,   90.87216506,  102.19509556,  103.93062934,\n",
       "         90.61018427,  110.17020991,  114.22983497,  103.96086585,\n",
       "         94.08597332,  111.24419185,  107.55395696,  108.67407411,\n",
       "         93.43536325,   71.65445495,  121.16791021,   83.89121597,\n",
       "         99.64231928,  123.80745351,  103.30576756,  109.49246474,\n",
       "         84.97603431,   82.22333045,   94.67297208,  110.90749734,\n",
       "         96.53750552,   92.05363679,  101.9796729 ,  110.81935218,\n",
       "         85.55059801,   87.89457006,   92.11330745,  110.94638375,\n",
       "        102.34821526,  121.32153411,  109.36445726,   99.64904823,\n",
       "        112.65077838,  102.11497013,   92.95078647,  106.79974844,\n",
       "         93.03673346,   97.09602899,  113.27782696,   98.98718514,\n",
       "         91.96858613,   95.35662309,  110.21790586,   94.47459327,\n",
       "         96.13129153,   94.8970726 ,  101.83925494,   96.1451024 ,\n",
       "         83.98163951,   91.12819058,   90.67210958,  112.43319384,\n",
       "        108.12674042,  105.87259379,   94.94641683,   91.84208458,\n",
       "         94.92482398,   89.48119897,  124.97200392,   77.54678352,\n",
       "        105.64008535,   87.15447702,   98.95656509,   90.11998058,\n",
       "         88.22371038,   88.59803699,  117.54986154,   98.67011578,\n",
       "         92.34297806,  105.55786964,  100.10349315,  107.20033759,\n",
       "         81.75743344,  103.03603904,  107.72694837,   83.38401709,\n",
       "        104.48195284,  116.96181573,   99.85142297,  108.21405937,\n",
       "        106.7057045 ,   92.92494302,  100.39766735,   84.33005289,\n",
       "         95.48696963,  102.65687975,  107.23100494,  100.24612125,\n",
       "        107.1998373 ,   88.97093787,   98.98302725,  100.19279385,\n",
       "        118.49591247,   97.85833344,   95.00983362,  100.21351224,\n",
       "         90.80886555,  101.92753849,   96.34944783,   82.08672452,\n",
       "         99.41413449,   96.82456906,   83.67576698,   99.32865845,\n",
       "        114.89355962,  105.21303748,  106.11927193,   86.58503274,\n",
       "        104.76898369,  101.48449581,  105.29045238,  104.22628622,\n",
       "         86.40219274,   99.58599188,   92.4212914 ,   99.49915906,\n",
       "         91.02599073,  113.12470367,   91.41027612,   91.01057844,\n",
       "        100.74586407,   89.22900931,   95.75336698,   91.70035402,\n",
       "        114.11172064,  107.85803827,   99.42530482,   96.08782948,\n",
       "        109.40917615,  104.0520408 ,  104.98052405,   99.73807763,\n",
       "         83.11769972,   98.87534017,   94.67510081,  106.45055273,\n",
       "        110.11842433,   93.42048955,  104.68385234,  117.35878998,\n",
       "         93.32287279,  116.8192174 ,   91.47414153,  100.22959756,\n",
       "         99.88854388,  100.114989  ,   91.62321958,   94.08816896,\n",
       "         93.32279714,  103.26962595,  103.30035115,  122.25944332,\n",
       "        113.70989006,   94.90156758,  103.24869616,  109.97117981,\n",
       "        100.30601824,   99.30358422,  100.51574943,  108.67276629,\n",
       "         91.51679477,   96.74330531,  104.70433145,  103.11447072,\n",
       "        102.3958276 ,   96.30198834,  109.72535789,  121.33868247,\n",
       "        104.06415494,   98.06823298,  107.55740289,   94.60867363,\n",
       "         92.50309655,  100.32808748,   74.17203367,   88.46049636,\n",
       "         96.52038144,   86.46611142,   89.67356898,   95.63251663,\n",
       "         83.57034706,   95.93928204,   94.64729835,  100.25405208,\n",
       "        111.5418403 ,  101.72504416,  100.21062021,  100.99454457,\n",
       "        102.27392775,   89.83261351,   98.85224675,  103.08751242,\n",
       "         86.29240017,  108.65652923,  110.81376034,   93.68624012,\n",
       "         97.58662209,   91.21809657,  106.99380484,   89.38777713,\n",
       "         97.7752299 ,   91.41080092,  100.50954277,   82.05770729,\n",
       "        113.26461642,   90.35393576,  100.59894683,   97.87476955,\n",
       "         92.37885488,   91.12219863,  109.36398544,   94.74359407,\n",
       "        102.71170185,   91.98503115,   93.52818568,  104.7224715 ,\n",
       "        109.30408496,   98.24683598,   85.78080128,  119.9795608 ,\n",
       "         91.43450692,   84.584126  ,  125.94424588,   95.95967706,\n",
       "         85.38267312,   93.16560233,  103.67544896,  101.90311558,\n",
       "         91.48270803,  118.227236  ,   94.78420322,   88.1531341 ,\n",
       "        109.60693398,  113.29062847,   91.82506902,   85.98652707,\n",
       "        110.30438267,   79.52676387,   87.73378341,  109.6744615 ,\n",
       "         99.44647452,   97.36062651,  103.52816606,   98.47225576,\n",
       "         87.01313278,  112.76075346,  113.25014053,  102.05332564,\n",
       "        100.45134015,  123.39624806,   97.23567155,   97.40423018,\n",
       "        103.64481249,  114.71321956,  115.92770754,   97.41427368,\n",
       "        103.08331246,   86.21916533,   96.88023892,   91.59709605,\n",
       "         89.93168248,  116.81576716,   92.07713338,   94.68394092,\n",
       "        103.65848788,  112.97825267,  104.81115126,  127.59355114,\n",
       "         99.25332022,  102.5871644 ,  102.75600674,  114.35049387,\n",
       "        105.07238951,   98.837703  ,   90.52511405,  102.44443456,\n",
       "        114.01344831,   95.89618206,  105.28943618,  102.46147789,\n",
       "        108.63519658,   91.95246259,  123.46647031,   87.20838893,\n",
       "         96.3444891 ,  109.38092541,  102.96733172,  108.29986159,\n",
       "         95.03897666,   99.25195017,  100.12231984,  115.69259615,\n",
       "        106.90429024,  107.96672108,   93.42073907,  109.68882639,\n",
       "        102.25581664,  113.89145316,  120.14060155,   96.93234224,\n",
       "         95.9369687 ,   91.35955009,   98.56420488,   96.17974551,\n",
       "        103.595044  ,   98.55433183,   96.38400719,  110.64585136,\n",
       "         90.62119769,  104.33107953,   95.94058273,  107.24368505,\n",
       "        113.85261547,   96.96901747,  104.41032907,  101.78792866,\n",
       "         92.005776  ,  102.4078751 ,  102.89120505,  104.1287082 ,\n",
       "         98.01601103,  100.941923  ,   88.52389055,   96.41885925])"
      ]
     },
     "execution_count": 44,
     "metadata": {},
     "output_type": "execute_result"
    }
   ],
   "source": [
    "normal = st.norm.rvs(loc=100,scale=10,size=1000)\n",
    "normal"
   ]
  },
  {
   "cell_type": "code",
   "execution_count": 7,
   "metadata": {
    "collapsed": false,
    "scrolled": true
   },
   "outputs": [
    {
     "data": {
      "text/plain": [
       "(array([   9.,   20.,   70.,  146.,  217.,  239.,  160.,   86.,   38.,   15.]),\n",
       " array([  69.53856945,   75.34406762,   81.14956579,   86.95506396,\n",
       "          92.76056213,   98.5660603 ,  104.37155846,  110.17705663,\n",
       "         115.9825548 ,  121.78805297,  127.59355114]),\n",
       " <a list of 10 Patch objects>)"
      ]
     },
     "execution_count": 7,
     "metadata": {},
     "output_type": "execute_result"
    },
    {
     "data": {
      "image/png": "[encoded data removed]",
      "text/plain": [
       "<matplotlib.figure.Figure at 0x7f961121d290>"
      ]
     },
     "metadata": {},
     "output_type": "display_data"
    }
   ],
   "source": [
    "pl.hist(normal)"
   ]
  },
  {
   "cell_type": "code",
   "execution_count": 31,
   "metadata": {
    "collapsed": false
   },
   "outputs": [],
   "source": [
    "def calculate_z(norm,mu=100,std=10):\n",
    "    \n",
    "    mean = norm.mean()\n",
    "    \n",
    "    z = (mu - mean) / (std/np.sqrt(len(norm))) \n",
    "    \n",
    "    return z"
   ]
  },
  {
   "cell_type": "code",
   "execution_count": 40,
   "metadata": {
    "collapsed": false
   },
   "outputs": [],
   "source": [
    "np.random.seed(10)\n",
    "\n",
    "zarr = np.empty(1000)\n",
    "\n",
    "for i in range(0,999):\n",
    "    \n",
    "    zarr[i] = calculate_z(st.norm.rvs(loc=100,scale=10,size=1000))\n",
    "    \n"
   ]
  },
  {
   "cell_type": "code",
   "execution_count": 41,
   "metadata": {
    "collapsed": false
   },
   "outputs": [
    {
     "data": {
      "text/plain": [
       "(array([   6.,   22.,   99.,  184.,  268.,  228.,  127.,   48.,   12.,    6.]),\n",
       " array([-3.14370118, -2.47697083, -1.81024048, -1.14351013, -0.47677978,\n",
       "         0.18995056,  0.85668091,  1.52341126,  2.19014161,  2.85687196,\n",
       "         3.5236023 ]),\n",
       " <a list of 10 Patch objects>)"
      ]
     },
     "execution_count": 41,
     "metadata": {},
     "output_type": "execute_result"
    },
    {
     "data": {
      "image/png": "[encoded data removed]",
      "text/plain": [
       "<matplotlib.figure.Figure at 0x7f9610d65750>"
      ]
     },
     "metadata": {},
     "output_type": "display_data"
    }
   ],
   "source": [
    "pl.hist(zarr)"
   ]
  },
  {
   "cell_type": "code",
   "execution_count": 42,
   "metadata": {
    "collapsed": false
   },
   "outputs": [
    {
     "data": {
      "text/plain": [
       "KstestResult(statistic=0.015500100716127896, pvalue=0.96989408286333612)"
      ]
     },
     "execution_count": 42,
     "metadata": {},
     "output_type": "execute_result"
    }
   ],
   "source": [
    "st.kstest(zarr,'norm')"
   ]
  },
  {
   "cell_type": "code",
   "execution_count": null,
   "metadata": {
    "collapsed": true
   },
   "outputs": [],
   "source": []
  },
  {
   "cell_type": "code",
   "execution_count": null,
   "metadata": {
    "collapsed": true
   },
   "outputs": [],
   "source": []
  },
  {
   "cell_type": "code",
   "execution_count": null,
   "metadata": {
    "collapsed": true
   },
   "outputs": [],
   "source": []
  },
  {
   "cell_type": "code",
   "execution_count": null,
   "metadata": {
    "collapsed": true
   },
   "outputs": [],
   "source": []
  },
  {
   "cell_type": "code",
   "execution_count": null,
   "metadata": {
    "collapsed": true
   },
   "outputs": [],
   "source": []
  }
 ],
 "metadata": {
  "kernelspec": {
   "display_name": "PUI2016_Python2",
   "language": "python",
   "name": "pui2016_python2"
  },
  "language_info": {
   "codemirror_mode": {
    "name": "ipython",
    "version": 2
   },
   "file_extension": ".py",
   "mimetype": "text/x-python",
   "name": "python",
   "nbconvert_exporter": "python",
   "pygments_lexer": "ipython2",
   "version": "2.7.12"
  }
 },
 "nbformat": 4,
 "nbformat_minor": 0
}
