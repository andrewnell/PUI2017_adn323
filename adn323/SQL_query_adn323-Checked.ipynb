{
 "cells": [
  {
   "cell_type": "markdown",
   "metadata": {},
   "source": [
    "# SQL CARTO QUERY FUNCTION\n",
    "# written for PUI2016_Python2"
   ]
  },
  {
   "cell_type": "markdown",
   "metadata": {},
   "source": [
    "##### This notebook is set up to link as a default to the fb55 account.  To turn in the homework use the same account you used in the lab (hvt201)  and query the database that you were querying in class (citibike_feb_2015)"
   ]
  },
  {
   "cell_type": "code",
   "execution_count": 1,
   "metadata": {},
   "outputs": [
    {
     "ename": "SyntaxError",
     "evalue": "invalid syntax (<ipython-input-1-574420f04fd4>, line 24)",
     "output_type": "error",
     "traceback": [
      "\u001b[0;36m  File \u001b[0;32m\"<ipython-input-1-574420f04fd4>\"\u001b[0;36m, line \u001b[0;32m24\u001b[0m\n\u001b[0;31m    except urllib2.HTTPError, e:\u001b[0m\n\u001b[0m                            ^\u001b[0m\n\u001b[0;31mSyntaxError\u001b[0m\u001b[0;31m:\u001b[0m invalid syntax\n"
     ]
    }
   ],
   "source": [
    "# SQL_SOURCE = 'https://fb55.carto.com/api/v2/sql?q='\n",
    "SQL_SOURCE = 'https://andrewnell.carto.com/api/v2/sql?q='\n",
    "\n",
    "import urllib2\n",
    "import urllib\n",
    "import StringIO\n",
    "import ast\n",
    "import pandas as pd\n",
    "\n",
    "def queryCartoDB(query, format='CSV', source=SQL_SOURCE):\n",
    "    '''queries carto datasets from a given carto account\n",
    "    Arguments: \n",
    "    query - string: a valid sql query string\n",
    "    format - outlut format  OPTIONAL (default CSV)\n",
    "    source - a valid sql api endpoint OPTIONAL (andrewnell Carto account)\n",
    "    Returns:\n",
    "    the return of the sql query AS A STRING\n",
    "    NOTES:\n",
    "    designed for the carto API, tested only with CSV return format'''\n",
    "    \n",
    "    data = urllib.urlencode({'format': format, 'q': query})\n",
    "    try:\n",
    "        response = urllib2.urlopen(source, data)\n",
    "    except urllib2.HTTPError, e:\n",
    "        raise ValueError('\\n'.join(ast.literal_eval(e.readline())['error']))\n",
    "    except Exception:\n",
    "        raise\n",
    "    return response.read()"
   ]
  },
  {
   "cell_type": "markdown",
   "metadata": {},
   "source": [
    "# TASK 1"
   ]
  },
  {
   "cell_type": "code",
   "execution_count": null,
   "metadata": {},
   "outputs": [],
   "source": [
    "# Sorting, Filtering and top 10 rows\n",
    "task1_SortTop10 = '''\n",
    "SELECT *\n",
    "FROM citibike \n",
    "WHERE tripduration >= (3*3600)\n",
    "ORDER BY start_station_id, tripduration\n",
    "LIMIT 10 \n",
    "'''"
   ]
  },
  {
   "cell_type": "code",
   "execution_count": null,
   "metadata": {
    "scrolled": true
   },
   "outputs": [],
   "source": [
    "pd.read_csv(StringIO.StringIO(queryCartoDB(task1_SortTop10)), sep=',').head()"
   ]
  },
  {
   "cell_type": "code",
   "execution_count": null,
   "metadata": {},
   "outputs": [],
   "source": [
    "# Sorting, filtering and bottom 10 rows\n",
    "task1_SortBottom10 = '''\n",
    "SELECT *\n",
    "FROM citibike \n",
    "WHERE tripduration >= (3*3600)\n",
    "ORDER BY start_station_id DESC, tripduration DESC\n",
    "LIMIT 10 \n",
    "'''"
   ]
  },
  {
   "cell_type": "code",
   "execution_count": null,
   "metadata": {
    "scrolled": true
   },
   "outputs": [],
   "source": [
    "pd.read_csv(StringIO.StringIO(queryCartoDB(task1_SortBottom10)), sep=',').head()"
   ]
  },
  {
   "cell_type": "code",
   "execution_count": null,
   "metadata": {},
   "outputs": [],
   "source": [
    "# Get Unique start station IDs\n",
    "task1_UniqueStart = '''\n",
    "SELECT DISTINCT start_station_id\n",
    "FROM citibike\n",
    "ORDER BY start_station_id\n",
    "'''"
   ]
  },
  {
   "cell_type": "code",
   "execution_count": null,
   "metadata": {},
   "outputs": [],
   "source": [
    "pd.read_csv(StringIO.StringIO(queryCartoDB(task1_UniqueStart)), sep=',').head()"
   ]
  },
  {
   "cell_type": "code",
   "execution_count": null,
   "metadata": {},
   "outputs": [],
   "source": [
    "# Get Count, Max, Min and Average trip duration\n",
    "task1_CMMA = '''\n",
    "SELECT COUNT(*),MAX(tripduration),MIN(tripduration), AVG(tripduration) \n",
    "FROM citibike\n",
    "'''"
   ]
  },
  {
   "cell_type": "code",
   "execution_count": null,
   "metadata": {
    "scrolled": true
   },
   "outputs": [],
   "source": [
    "pd.read_csv(StringIO.StringIO(queryCartoDB(task1_CMMA)), sep=',')"
   ]
  },
  {
   "cell_type": "markdown",
   "metadata": {},
   "source": [
    "# TASK 2\n",
    "### Define SQL Functions"
   ]
  },
  {
   "cell_type": "code",
   "execution_count": null,
   "metadata": {},
   "outputs": [],
   "source": [
    "# Select Trips that only start on 2015/02/02\n",
    "Task2_20150202 = '''\n",
    "SELECT *\n",
    "FROM citibike\n",
    "WHERE CAST(starttime AS Date)  = '2015-02-02'\n",
    "'''"
   ]
  },
  {
   "cell_type": "code",
   "execution_count": null,
   "metadata": {},
   "outputs": [],
   "source": [
    "pd.read_csv(StringIO.StringIO(queryCartoDB(Task2_20150202)), sep=',').head()"
   ]
  },
  {
   "cell_type": "code",
   "execution_count": null,
   "metadata": {},
   "outputs": [],
   "source": [
    "# Select Average Weekend Trip Duration\n",
    "Task2_AvgWeekend = '''\n",
    "SELECT AVG(tripduration)\n",
    "FROM citibike\n",
    "WHERE EXTRACT(DOW FROM starttime) IN (0,6)\n",
    "'''"
   ]
  },
  {
   "cell_type": "code",
   "execution_count": null,
   "metadata": {},
   "outputs": [],
   "source": [
    "pd.read_csv(StringIO.StringIO(queryCartoDB(Task2_AvgWeekend)), sep=',').head()"
   ]
  },
  {
   "cell_type": "code",
   "execution_count": null,
   "metadata": {},
   "outputs": [],
   "source": [
    "# Select Average Weekday Trip Duration\n",
    "Task2_AvgWeekday = '''\n",
    "SELECT AVG(tripduration)\n",
    "FROM citibike\n",
    "WHERE EXTRACT(DOW FROM starttime) NOT IN (0,6)\n",
    "'''"
   ]
  },
  {
   "cell_type": "code",
   "execution_count": null,
   "metadata": {},
   "outputs": [],
   "source": [
    "pd.read_csv(StringIO.StringIO(queryCartoDB(Task2_AvgWeekday)), sep=',').head()"
   ]
  },
  {
   "cell_type": "markdown",
   "metadata": {},
   "source": [
    "# TASK 3"
   ]
  },
  {
   "cell_type": "code",
   "execution_count": null,
   "metadata": {},
   "outputs": [],
   "source": [
    "# List of start locations using Group by\n",
    "Task3_StartLoc = '''\n",
    "SELECT start_station_name\n",
    "FROM citibike\n",
    "GROUP BY start_station_name\n",
    "'''"
   ]
  },
  {
   "cell_type": "code",
   "execution_count": null,
   "metadata": {},
   "outputs": [],
   "source": [
    "pd.read_csv(StringIO.StringIO(queryCartoDB(Task3_StartLoc)), sep=',').head()"
   ]
  },
  {
   "cell_type": "code",
   "execution_count": null,
   "metadata": {},
   "outputs": [],
   "source": [
    "# Count of start trips by start locations using Group by\n",
    "Task3_TripsStartLoc = '''\n",
    "SELECT start_station_name, COUNT(tripduration)\n",
    "FROM citibike\n",
    "GROUP BY start_station_name\n",
    "'''"
   ]
  },
  {
   "cell_type": "code",
   "execution_count": null,
   "metadata": {},
   "outputs": [],
   "source": [
    "pd.read_csv(StringIO.StringIO(queryCartoDB(Task3_TripsStartLoc)), sep=',').head()"
   ]
  },
  {
   "cell_type": "code",
   "execution_count": null,
   "metadata": {},
   "outputs": [],
   "source": [
    "# Count of start trips by start locations using Group by within 500 meters of Time Square\n",
    "Task3_TripsStartLocTS = '''\n",
    "SELECT start_station_name, COUNT(tripduration)\n",
    "FROM citibike\n",
    "WHERE ST_DWithin(CDB_LatLng(start_station_latitude,\n",
    "                            start_station_longitude\n",
    "                           ) :: geography,\n",
    "                 CDB_LatLng(40.7577, -73.9857)  :: geography, 500)\n",
    "GROUP BY start_station_name\n",
    "'''"
   ]
  },
  {
   "cell_type": "code",
   "execution_count": null,
   "metadata": {},
   "outputs": [],
   "source": [
    "pd.read_csv(StringIO.StringIO(queryCartoDB(Task3_TripsStartLocTS)), sep=',').head()"
   ]
  },
  {
   "cell_type": "markdown",
   "metadata": {},
   "source": [
    "# TASK 4"
   ]
  },
  {
   "cell_type": "code",
   "execution_count": null,
   "metadata": {},
   "outputs": [],
   "source": [
    "# Max Average Trip Duration by start locations within 500 meters of Time Square\n",
    "Task4_1 = '''\n",
    "SELECT start_station_name, AVG(tripduration)\n",
    "FROM citibike\n",
    "WHERE ST_DWithin(CDB_LatLng(start_station_latitude,\n",
    "                            start_station_longitude\n",
    "                           ) :: geography,\n",
    "                 CDB_LatLng(40.7577, -73.9857)  :: geography, 500) \n",
    "      AND EXTRACT(DOW FROM starttime) NOT IN (0,6)\n",
    "GROUP BY start_station_name\n",
    "ORDER BY AVG(tripduration) DESC\n",
    "LIMIT 1\n",
    "'''"
   ]
  },
  {
   "cell_type": "code",
   "execution_count": null,
   "metadata": {},
   "outputs": [],
   "source": [
    "pd.read_csv(StringIO.StringIO(queryCartoDB(Task4_1)), sep=',')"
   ]
  },
  {
   "cell_type": "code",
   "execution_count": null,
   "metadata": {},
   "outputs": [],
   "source": [
    "# Lines of Trips within 500 meters of Time Square below 2 hours\n",
    "Task4_2 = '''\n",
    "SELECT ST_Makeline(\n",
    "                   CDB_TransformToWebmercator(\n",
    "                                              CDB_LatLng(\n",
    "                                                    start_station_latitude,\n",
    "                                                    start_station_longitude\n",
    "                                                        )\n",
    "                                             ),\n",
    "                   CDB_TransformToWebmercator(\n",
    "                                              CDB_LatLng(\n",
    "                                                    end_station_latitude,\n",
    "                                                    end_station_longitude\n",
    "                                                        )\n",
    "                                             )\n",
    "                   )\n",
    "                   as the_geom_webmercator,\n",
    "                   MIN(cartodb_id) as cartodb_id,\n",
    "                   COUNT(cartodb_id) as number_trips\n",
    "FROM citibike\n",
    "WHERE ST_DWithin(CDB_LatLng(start_station_latitude,\n",
    "                            start_station_longitude\n",
    "                           ) :: geography,\n",
    "                 CDB_LatLng(40.7577, -73.9857)  :: geography, 500) \n",
    "      AND tripduration <= (2*3600)\n",
    "GROUP BY start_station_id, start_station_latitude, start_station_longitude,\n",
    "                 end_station_id, end_station_latitude, end_station_longitude\n",
    "'''"
   ]
  },
  {
   "cell_type": "code",
   "execution_count": null,
   "metadata": {},
   "outputs": [],
   "source": [
    "pd.read_csv(StringIO.StringIO(queryCartoDB(Task4_2)), sep=',').head()"
   ]
  },
  {
   "cell_type": "markdown",
   "metadata": {},
   "source": []
  },
  {
   "cell_type": "markdown",
   "metadata": {
    "collapsed": true
   },
   "source": [
    "# extra credit: make the function python 2 and 3 compatible so that it works on the  PUI2016_Python3 kernel"
   ]
  },
  {
   "cell_type": "markdown",
   "metadata": {},
   "source": [
    "## ASH - Score 100. Extra Credit 0"
   ]
  },
  {
   "cell_type": "code",
   "execution_count": null,
   "metadata": {},
   "outputs": [],
   "source": []
  }
 ],
 "metadata": {
  "anaconda-cloud": {},
  "kernelspec": {
   "display_name": "PUI2016_Python3",
   "language": "python",
   "name": "pui2016_python3"
  },
  "language_info": {
   "codemirror_mode": {
    "name": "ipython",
    "version": 3
   },
   "file_extension": ".py",
   "mimetype": "text/x-python",
   "name": "python",
   "nbconvert_exporter": "python",
   "pygments_lexer": "ipython3",
   "version": "3.5.4"
  }
 },
 "nbformat": 4,
 "nbformat_minor": 1
}
