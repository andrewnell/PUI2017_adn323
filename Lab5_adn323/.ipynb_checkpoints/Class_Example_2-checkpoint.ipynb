{
 "cells": [
  {
   "cell_type": "code",
   "execution_count": 103,
   "metadata": {
    "collapsed": false
   },
   "outputs": [
    {
     "name": "stdout",
     "output_type": "stream",
     "text": [
      "Populating the interactive namespace from numpy and matplotlib\n"
     ]
    }
   ],
   "source": [
    "import numpy as np\n",
    "import pandas as pd\n",
    "import scipy.stats as st\n",
    "import statsmodels.api as sm\n",
    "import pylab as pl\n",
    "import statsmodels.formula.api as smf\n",
    "% pylab inline\n",
    "\n",
    "np.random.seed(100)"
   ]
  },
  {
   "cell_type": "code",
   "execution_count": 71,
   "metadata": {
    "collapsed": false
   },
   "outputs": [],
   "source": [
    "x = np.random.uniform(-50,50,75)\n"
   ]
  },
  {
   "cell_type": "code",
   "execution_count": 72,
   "metadata": {
    "collapsed": true
   },
   "outputs": [],
   "source": [
    "def line(x, a=1, b=0):\n",
    "    \n",
    "    \"\"\"Defines a line\"\"\"\n",
    "    \n",
    "    y = a * x + b\n",
    "    \n",
    "    return y + (np.random.randn(len(y)) * np.sqrt(np.abs(y.mean())))"
   ]
  },
  {
   "cell_type": "code",
   "execution_count": 87,
   "metadata": {
    "collapsed": false
   },
   "outputs": [
    {
     "data": {
      "text/plain": [
       "<Container object of 3 artists>"
      ]
     },
     "execution_count": 87,
     "metadata": {},
     "output_type": "execute_result"
    },
    {
     "data": {
      "image/png": "[encoded data removed]",
      "text/plain": [
       "<matplotlib.figure.Figure at 0x7fc9cbb70610>"
      ]
     },
     "metadata": {},
     "output_type": "display_data"
    }
   ],
   "source": [
    "y=line(x)\n",
    "yerr=np.abs(y)**0.5\n",
    "pl.plot(x, y, \".\")\n",
    "\n",
    "pl.errorbar(x,y,yerr=np.abs(y)**0.5,fmt=\".\")"
   ]
  },
  {
   "cell_type": "code",
   "execution_count": 88,
   "metadata": {
    "collapsed": false
   },
   "outputs": [],
   "source": [
    "lm = sm.OLS(endog=y, exog=sm.add_constant(x)).fit()"
   ]
  },
  {
   "cell_type": "code",
   "execution_count": 89,
   "metadata": {
    "collapsed": false
   },
   "outputs": [
    {
     "data": {
      "text/plain": [
       "array([  4.35790487, -21.91975677,  -7.42950065,  34.23816045,\n",
       "       -49.05157295, -37.46613984,  16.98378172,  32.36195142,\n",
       "       -35.96529485,   7.49973511,  38.8530709 , -28.77753071,\n",
       "       -31.14457286, -38.77411892, -27.73693903,  47.5088452 ,\n",
       "        30.9570678 , -32.47188341,  31.40735689, -22.34565934,\n",
       "        -6.71696661,  43.68234294,  31.54860566, -16.19471518,\n",
       "       -32.12789637, -12.55400268, -48.95543428, -24.49194828,\n",
       "        29.36865839, -48.00694155,   9.85449732,  10.34638505,\n",
       "       -39.09428712, -11.65062861, -45.90292008,  38.76280775,\n",
       "        47.7365946 , -43.57632725,  38.77613135,   7.67901098,\n",
       "        24.09570502,  12.96184121,   8.16886925, -47.49294401,\n",
       "       -28.69578785,   4.48480759,  26.73655137, -24.66358524,\n",
       "       -21.17354103,  34.99356224,  47.15019916,  38.21171816,\n",
       "       -13.87506649,   9.85604094, -14.34227341, -15.79036462,\n",
       "       -31.86311893, -25.95260632, -45.07144521,   0.59291908,\n",
       "       -12.21487715,   9.25584599,  12.93784144, -35.38094569,\n",
       "        43.0687655 ,  44.3119368 ,  10.19688211, -11.07330797,\n",
       "       -13.51018713, -29.25907567, -22.07882175, -25.07597496,\n",
       "       -32.30660531,  46.31767598,  45.36614632])"
      ]
     },
     "execution_count": 89,
     "metadata": {},
     "output_type": "execute_result"
    }
   ],
   "source": [
    "lm.fittedvalues"
   ]
  },
  {
   "cell_type": "code",
   "execution_count": 90,
   "metadata": {
    "collapsed": false
   },
   "outputs": [
    {
     "data": {
      "text/plain": [
       "[<matplotlib.lines.Line2D at 0x7fc9cb5a06d0>]"
      ]
     },
     "execution_count": 90,
     "metadata": {},
     "output_type": "execute_result"
    },
    {
     "data": {
      "image/png": "[encoded data removed]",
      "text/plain": [
       "<matplotlib.figure.Figure at 0x7fc9cba08190>"
      ]
     },
     "metadata": {},
     "output_type": "display_data"
    }
   ],
   "source": [
    "pl.plot(x, y, \".\")\n",
    "pl.plot(x, lm.fittedvalues, \"-\")"
   ]
  },
  {
   "cell_type": "code",
   "execution_count": 91,
   "metadata": {
    "collapsed": false
   },
   "outputs": [
    {
     "data": {
      "text/plain": [
       "array([ 0.05440541,  0.99147684])"
      ]
     },
     "execution_count": 91,
     "metadata": {},
     "output_type": "execute_result"
    }
   ],
   "source": [
    "lm.params"
   ]
  },
  {
   "cell_type": "code",
   "execution_count": 92,
   "metadata": {
    "collapsed": false
   },
   "outputs": [],
   "source": [
    "wmodel = sm.WLS(endog=y, exog=sm.add_constant(x), weights=1.0/yerr).fit()"
   ]
  },
  {
   "cell_type": "code",
   "execution_count": 93,
   "metadata": {
    "collapsed": false
   },
   "outputs": [
    {
     "data": {
      "text/plain": [
       "array([ 0.085064  ,  0.99011141])"
      ]
     },
     "execution_count": 93,
     "metadata": {},
     "output_type": "execute_result"
    }
   ],
   "source": [
    "wmodel.params"
   ]
  },
  {
   "cell_type": "code",
   "execution_count": 95,
   "metadata": {
    "collapsed": false
   },
   "outputs": [],
   "source": [
    "df = pd.DataFrame({'x':x,'y':y})"
   ]
  },
  {
   "cell_type": "code",
   "execution_count": 96,
   "metadata": {
    "collapsed": false
   },
   "outputs": [
    {
     "data": {
      "text/html": [
       "<div>\n",
       "<table border=\"1\" class=\"dataframe\">\n",
       "  <thead>\n",
       "    <tr style=\"text-align: right;\">\n",
       "      <th></th>\n",
       "      <th>x</th>\n",
       "      <th>y</th>\n",
       "    </tr>\n",
       "  </thead>\n",
       "  <tbody>\n",
       "    <tr>\n",
       "      <th>0</th>\n",
       "      <td>4.340494</td>\n",
       "      <td>3.195487</td>\n",
       "    </tr>\n",
       "    <tr>\n",
       "      <th>1</th>\n",
       "      <td>-22.163061</td>\n",
       "      <td>-20.934019</td>\n",
       "    </tr>\n",
       "    <tr>\n",
       "      <th>2</th>\n",
       "      <td>-7.548241</td>\n",
       "      <td>-7.120482</td>\n",
       "    </tr>\n",
       "    <tr>\n",
       "      <th>3</th>\n",
       "      <td>34.477613</td>\n",
       "      <td>34.987485</td>\n",
       "    </tr>\n",
       "    <tr>\n",
       "      <th>4</th>\n",
       "      <td>-49.528114</td>\n",
       "      <td>-51.229281</td>\n",
       "    </tr>\n",
       "    <tr>\n",
       "      <th>5</th>\n",
       "      <td>-37.843088</td>\n",
       "      <td>-37.422221</td>\n",
       "    </tr>\n",
       "    <tr>\n",
       "      <th>6</th>\n",
       "      <td>17.074908</td>\n",
       "      <td>18.646006</td>\n",
       "    </tr>\n",
       "    <tr>\n",
       "      <th>7</th>\n",
       "      <td>32.585276</td>\n",
       "      <td>31.295172</td>\n",
       "    </tr>\n",
       "    <tr>\n",
       "      <th>8</th>\n",
       "      <td>-36.329341</td>\n",
       "      <td>-36.535793</td>\n",
       "    </tr>\n",
       "    <tr>\n",
       "      <th>9</th>\n",
       "      <td>7.509333</td>\n",
       "      <td>6.950286</td>\n",
       "    </tr>\n",
       "    <tr>\n",
       "      <th>10</th>\n",
       "      <td>39.132195</td>\n",
       "      <td>39.388571</td>\n",
       "    </tr>\n",
       "    <tr>\n",
       "      <th>11</th>\n",
       "      <td>-29.079788</td>\n",
       "      <td>-28.244930</td>\n",
       "    </tr>\n",
       "    <tr>\n",
       "      <th>12</th>\n",
       "      <td>-31.467178</td>\n",
       "      <td>-30.340146</td>\n",
       "    </tr>\n",
       "    <tr>\n",
       "      <th>13</th>\n",
       "      <td>-39.162311</td>\n",
       "      <td>-38.894233</td>\n",
       "    </tr>\n",
       "    <tr>\n",
       "      <th>14</th>\n",
       "      <td>-28.030251</td>\n",
       "      <td>-27.872736</td>\n",
       "    </tr>\n",
       "    <tr>\n",
       "      <th>15</th>\n",
       "      <td>47.862378</td>\n",
       "      <td>45.630361</td>\n",
       "    </tr>\n",
       "    <tr>\n",
       "      <th>16</th>\n",
       "      <td>31.168315</td>\n",
       "      <td>33.482658</td>\n",
       "    </tr>\n",
       "    <tr>\n",
       "      <th>17</th>\n",
       "      <td>-32.805899</td>\n",
       "      <td>-32.838077</td>\n",
       "    </tr>\n",
       "    <tr>\n",
       "      <th>18</th>\n",
       "      <td>31.622475</td>\n",
       "      <td>31.037849</td>\n",
       "    </tr>\n",
       "    <tr>\n",
       "      <th>19</th>\n",
       "      <td>-22.592625</td>\n",
       "      <td>-21.860557</td>\n",
       "    </tr>\n",
       "    <tr>\n",
       "      <th>20</th>\n",
       "      <td>-6.829582</td>\n",
       "      <td>-10.038707</td>\n",
       "    </tr>\n",
       "    <tr>\n",
       "      <th>21</th>\n",
       "      <td>44.002982</td>\n",
       "      <td>41.434651</td>\n",
       "    </tr>\n",
       "    <tr>\n",
       "      <th>22</th>\n",
       "      <td>31.764938</td>\n",
       "      <td>30.657931</td>\n",
       "    </tr>\n",
       "    <tr>\n",
       "      <th>23</th>\n",
       "      <td>-16.388805</td>\n",
       "      <td>-14.961162</td>\n",
       "    </tr>\n",
       "    <tr>\n",
       "      <th>24</th>\n",
       "      <td>-32.458955</td>\n",
       "      <td>-33.425934</td>\n",
       "    </tr>\n",
       "    <tr>\n",
       "      <th>25</th>\n",
       "      <td>-12.716795</td>\n",
       "      <td>-10.039543</td>\n",
       "    </tr>\n",
       "    <tr>\n",
       "      <th>26</th>\n",
       "      <td>-49.431149</td>\n",
       "      <td>-49.949766</td>\n",
       "    </tr>\n",
       "    <tr>\n",
       "      <th>27</th>\n",
       "      <td>-24.757365</td>\n",
       "      <td>-25.358942</td>\n",
       "    </tr>\n",
       "    <tr>\n",
       "      <th>28</th>\n",
       "      <td>29.566251</td>\n",
       "      <td>31.170306</td>\n",
       "    </tr>\n",
       "    <tr>\n",
       "      <th>29</th>\n",
       "      <td>-48.474503</td>\n",
       "      <td>-49.453139</td>\n",
       "    </tr>\n",
       "    <tr>\n",
       "      <th>...</th>\n",
       "      <td>...</td>\n",
       "      <td>...</td>\n",
       "    </tr>\n",
       "    <tr>\n",
       "      <th>45</th>\n",
       "      <td>4.468488</td>\n",
       "      <td>2.406873</td>\n",
       "    </tr>\n",
       "    <tr>\n",
       "      <th>46</th>\n",
       "      <td>26.911517</td>\n",
       "      <td>27.749366</td>\n",
       "    </tr>\n",
       "    <tr>\n",
       "      <th>47</th>\n",
       "      <td>-24.930477</td>\n",
       "      <td>-24.278178</td>\n",
       "    </tr>\n",
       "    <tr>\n",
       "      <th>48</th>\n",
       "      <td>-21.410431</td>\n",
       "      <td>-21.025452</td>\n",
       "    </tr>\n",
       "    <tr>\n",
       "      <th>49</th>\n",
       "      <td>35.239509</td>\n",
       "      <td>37.581113</td>\n",
       "    </tr>\n",
       "    <tr>\n",
       "      <th>50</th>\n",
       "      <td>47.500649</td>\n",
       "      <td>42.939357</td>\n",
       "    </tr>\n",
       "    <tr>\n",
       "      <th>51</th>\n",
       "      <td>38.485329</td>\n",
       "      <td>36.339553</td>\n",
       "    </tr>\n",
       "    <tr>\n",
       "      <th>52</th>\n",
       "      <td>-14.049216</td>\n",
       "      <td>-11.458371</td>\n",
       "    </tr>\n",
       "    <tr>\n",
       "      <th>53</th>\n",
       "      <td>9.885895</td>\n",
       "      <td>12.467880</td>\n",
       "    </tr>\n",
       "    <tr>\n",
       "      <th>54</th>\n",
       "      <td>-14.520439</td>\n",
       "      <td>-17.683135</td>\n",
       "    </tr>\n",
       "    <tr>\n",
       "      <th>55</th>\n",
       "      <td>-15.980978</td>\n",
       "      <td>-15.909356</td>\n",
       "    </tr>\n",
       "    <tr>\n",
       "      <th>56</th>\n",
       "      <td>-32.191901</td>\n",
       "      <td>-30.908619</td>\n",
       "    </tr>\n",
       "    <tr>\n",
       "      <th>57</th>\n",
       "      <td>-26.230579</td>\n",
       "      <td>-26.105693</td>\n",
       "    </tr>\n",
       "    <tr>\n",
       "      <th>58</th>\n",
       "      <td>-45.513772</td>\n",
       "      <td>-45.648258</td>\n",
       "    </tr>\n",
       "    <tr>\n",
       "      <th>59</th>\n",
       "      <td>0.543143</td>\n",
       "      <td>1.150432</td>\n",
       "    </tr>\n",
       "    <tr>\n",
       "      <th>60</th>\n",
       "      <td>-12.374755</td>\n",
       "      <td>-11.506507</td>\n",
       "    </tr>\n",
       "    <tr>\n",
       "      <th>61</th>\n",
       "      <td>9.280540</td>\n",
       "      <td>11.200655</td>\n",
       "    </tr>\n",
       "    <tr>\n",
       "      <th>62</th>\n",
       "      <td>12.994188</td>\n",
       "      <td>13.939789</td>\n",
       "    </tr>\n",
       "    <tr>\n",
       "      <th>63</th>\n",
       "      <td>-35.739969</td>\n",
       "      <td>-36.544070</td>\n",
       "    </tr>\n",
       "    <tr>\n",
       "      <th>64</th>\n",
       "      <td>43.384130</td>\n",
       "      <td>44.902136</td>\n",
       "    </tr>\n",
       "    <tr>\n",
       "      <th>65</th>\n",
       "      <td>44.637988</td>\n",
       "      <td>43.479446</td>\n",
       "    </tr>\n",
       "    <tr>\n",
       "      <th>66</th>\n",
       "      <td>10.229666</td>\n",
       "      <td>8.382998</td>\n",
       "    </tr>\n",
       "    <tr>\n",
       "      <th>67</th>\n",
       "      <td>-11.223372</td>\n",
       "      <td>-11.199541</td>\n",
       "    </tr>\n",
       "    <tr>\n",
       "      <th>68</th>\n",
       "      <td>-13.681200</td>\n",
       "      <td>-13.468580</td>\n",
       "    </tr>\n",
       "    <tr>\n",
       "      <th>69</th>\n",
       "      <td>-29.565472</td>\n",
       "      <td>-29.104719</td>\n",
       "    </tr>\n",
       "    <tr>\n",
       "      <th>70</th>\n",
       "      <td>-22.323494</td>\n",
       "      <td>-21.597516</td>\n",
       "    </tr>\n",
       "    <tr>\n",
       "      <th>71</th>\n",
       "      <td>-25.346412</td>\n",
       "      <td>-22.322276</td>\n",
       "    </tr>\n",
       "    <tr>\n",
       "      <th>72</th>\n",
       "      <td>-32.639200</td>\n",
       "      <td>-32.590507</td>\n",
       "    </tr>\n",
       "    <tr>\n",
       "      <th>73</th>\n",
       "      <td>46.660969</td>\n",
       "      <td>46.647770</td>\n",
       "    </tr>\n",
       "    <tr>\n",
       "      <th>74</th>\n",
       "      <td>45.701260</td>\n",
       "      <td>46.519602</td>\n",
       "    </tr>\n",
       "  </tbody>\n",
       "</table>\n",
       "<p>75 rows × 2 columns</p>\n",
       "</div>"
      ],
      "text/plain": [
       "            x          y\n",
       "0    4.340494   3.195487\n",
       "1  -22.163061 -20.934019\n",
       "2   -7.548241  -7.120482\n",
       "3   34.477613  34.987485\n",
       "4  -49.528114 -51.229281\n",
       "5  -37.843088 -37.422221\n",
       "6   17.074908  18.646006\n",
       "7   32.585276  31.295172\n",
       "8  -36.329341 -36.535793\n",
       "9    7.509333   6.950286\n",
       "10  39.132195  39.388571\n",
       "11 -29.079788 -28.244930\n",
       "12 -31.467178 -30.340146\n",
       "13 -39.162311 -38.894233\n",
       "14 -28.030251 -27.872736\n",
       "15  47.862378  45.630361\n",
       "16  31.168315  33.482658\n",
       "17 -32.805899 -32.838077\n",
       "18  31.622475  31.037849\n",
       "19 -22.592625 -21.860557\n",
       "20  -6.829582 -10.038707\n",
       "21  44.002982  41.434651\n",
       "22  31.764938  30.657931\n",
       "23 -16.388805 -14.961162\n",
       "24 -32.458955 -33.425934\n",
       "25 -12.716795 -10.039543\n",
       "26 -49.431149 -49.949766\n",
       "27 -24.757365 -25.358942\n",
       "28  29.566251  31.170306\n",
       "29 -48.474503 -49.453139\n",
       "..        ...        ...\n",
       "45   4.468488   2.406873\n",
       "46  26.911517  27.749366\n",
       "47 -24.930477 -24.278178\n",
       "48 -21.410431 -21.025452\n",
       "49  35.239509  37.581113\n",
       "50  47.500649  42.939357\n",
       "51  38.485329  36.339553\n",
       "52 -14.049216 -11.458371\n",
       "53   9.885895  12.467880\n",
       "54 -14.520439 -17.683135\n",
       "55 -15.980978 -15.909356\n",
       "56 -32.191901 -30.908619\n",
       "57 -26.230579 -26.105693\n",
       "58 -45.513772 -45.648258\n",
       "59   0.543143   1.150432\n",
       "60 -12.374755 -11.506507\n",
       "61   9.280540  11.200655\n",
       "62  12.994188  13.939789\n",
       "63 -35.739969 -36.544070\n",
       "64  43.384130  44.902136\n",
       "65  44.637988  43.479446\n",
       "66  10.229666   8.382998\n",
       "67 -11.223372 -11.199541\n",
       "68 -13.681200 -13.468580\n",
       "69 -29.565472 -29.104719\n",
       "70 -22.323494 -21.597516\n",
       "71 -25.346412 -22.322276\n",
       "72 -32.639200 -32.590507\n",
       "73  46.660969  46.647770\n",
       "74  45.701260  46.519602\n",
       "\n",
       "[75 rows x 2 columns]"
      ]
     },
     "execution_count": 96,
     "metadata": {},
     "output_type": "execute_result"
    }
   ],
   "source": [
    "df"
   ]
  },
  {
   "cell_type": "code",
   "execution_count": 104,
   "metadata": {
    "collapsed": false
   },
   "outputs": [
    {
     "data": {
      "text/plain": [
       "0      4.357905\n",
       "1    -21.919757\n",
       "2     -7.429501\n",
       "3     34.238160\n",
       "4    -49.051573\n",
       "5    -37.466140\n",
       "6     16.983782\n",
       "7     32.361951\n",
       "8    -35.965295\n",
       "9      7.499735\n",
       "10    38.853071\n",
       "11   -28.777531\n",
       "12   -31.144573\n",
       "13   -38.774119\n",
       "14   -27.736939\n",
       "15    47.508845\n",
       "16    30.957068\n",
       "17   -32.471883\n",
       "18    31.407357\n",
       "19   -22.345659\n",
       "20    -6.716967\n",
       "21    43.682343\n",
       "22    31.548606\n",
       "23   -16.194715\n",
       "24   -32.127896\n",
       "25   -12.554003\n",
       "26   -48.955434\n",
       "27   -24.491948\n",
       "28    29.368658\n",
       "29   -48.006942\n",
       "        ...    \n",
       "45     4.484808\n",
       "46    26.736551\n",
       "47   -24.663585\n",
       "48   -21.173541\n",
       "49    34.993562\n",
       "50    47.150199\n",
       "51    38.211718\n",
       "52   -13.875066\n",
       "53     9.856041\n",
       "54   -14.342273\n",
       "55   -15.790365\n",
       "56   -31.863119\n",
       "57   -25.952606\n",
       "58   -45.071445\n",
       "59     0.592919\n",
       "60   -12.214877\n",
       "61     9.255846\n",
       "62    12.937841\n",
       "63   -35.380946\n",
       "64    43.068765\n",
       "65    44.311937\n",
       "66    10.196882\n",
       "67   -11.073308\n",
       "68   -13.510187\n",
       "69   -29.259076\n",
       "70   -22.078822\n",
       "71   -25.075975\n",
       "72   -32.306605\n",
       "73    46.317676\n",
       "74    45.366146\n",
       "dtype: float64"
      ]
     },
     "execution_count": 104,
     "metadata": {},
     "output_type": "execute_result"
    }
   ],
   "source": [
    "smf.ols('y ~ x',data=df).fit().fittedvalues"
   ]
  },
  {
   "cell_type": "code",
   "execution_count": null,
   "metadata": {
    "collapsed": true
   },
   "outputs": [],
   "source": []
  }
 ],
 "metadata": {
  "kernelspec": {
   "display_name": "PUI2016_Python2",
   "language": "python",
   "name": "pui2016_python2"
  },
  "language_info": {
   "codemirror_mode": {
    "name": "ipython",
    "version": 2
   },
   "file_extension": ".py",
   "mimetype": "text/x-python",
   "name": "python",
   "nbconvert_exporter": "python",
   "pygments_lexer": "ipython2",
   "version": "2.7.12"
  }
 },
 "nbformat": 4,
 "nbformat_minor": 0
}
